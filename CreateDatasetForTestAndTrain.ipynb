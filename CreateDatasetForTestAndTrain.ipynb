{
 "cells": [
  {
   "cell_type": "code",
   "execution_count": 102,
   "metadata": {},
   "outputs": [],
   "source": [
    "import os\n",
    "from itertools import permutations\n",
    "newsDirectory = os.listdir('Dataset/')\n",
    "colA=[]\n",
    "colB=[]\n",
    "label=[]\n",
    "for news in newsDirectory:\n",
    "    data = os.listdir('Dataset/'+news)\n",
    "    similarNews=[]\n",
    "    for file in data:\n",
    "        content = open('Dataset/'+news+'/'+file).read()\n",
    "        if len(content)<100:\n",
    "            continue\n",
    "        similarNews.append(content)\n",
    "    for news in list(permutations(similarNews,2)):\n",
    "        colA.append(news[0])\n",
    "        colB.append(news[1])\n",
    "        label.append(1)"
   ]
  },
  {
   "cell_type": "code",
   "execution_count": 103,
   "metadata": {},
   "outputs": [],
   "source": [
    "from random import shuffle\n",
    "for news in newsDirectory:\n",
    "    data = os.listdir('Dataset/'+news)\n",
    "    similarNews=[]\n",
    "    for file in data:\n",
    "        content = open('Dataset/'+news+'/'+file).read()\n",
    "        if len(content)<100:\n",
    "            continue\n",
    "        similarNews.append(content)\n",
    "    DissimilarNews=[]\n",
    "    for secondNews in newsDirectory:\n",
    "        if secondNews != news:\n",
    "            topics = os.listdir('Dataset/'+secondNews+'/')\n",
    "            for topic in topics:\n",
    "                content = open('Dataset/'+secondNews+'/'+topic).read()\n",
    "                if len(content)<100:\n",
    "                    continue\n",
    "                DissimilarNews.append(content)\n",
    "    for news1 in similarNews:\n",
    "        shuffle(DissimilarNews)\n",
    "        count=0\n",
    "        for news2 in DissimilarNews:\n",
    "            colA.append(news1)\n",
    "            colB.append(news2)\n",
    "            label.append(0)\n",
    "            if count == 3:\n",
    "                break\n",
    "            else:\n",
    "                count+=1            "
   ]
  },
  {
   "cell_type": "code",
   "execution_count": 104,
   "metadata": {},
   "outputs": [],
   "source": [
    "import pandas as pd\n",
    "df = pd.DataFrame({'News1':colA,'News2':colB,'Label':label})\n",
    "df.to_csv(\"Dataset.csv\")"
   ]
  },
  {
   "cell_type": "code",
   "execution_count": 105,
   "metadata": {},
   "outputs": [
    {
     "data": {
      "text/plain": [
       "1272"
      ]
     },
     "execution_count": 105,
     "metadata": {},
     "output_type": "execute_result"
    }
   ],
   "source": [
    "len(df)"
   ]
  }
 ],
 "metadata": {
  "kernelspec": {
   "display_name": "Python 3",
   "language": "python",
   "name": "python3"
  },
  "language_info": {
   "codemirror_mode": {
    "name": "ipython",
    "version": 3
   },
   "file_extension": ".py",
   "mimetype": "text/x-python",
   "name": "python",
   "nbconvert_exporter": "python",
   "pygments_lexer": "ipython3",
   "version": "3.6.5"
  }
 },
 "nbformat": 4,
 "nbformat_minor": 2
}
